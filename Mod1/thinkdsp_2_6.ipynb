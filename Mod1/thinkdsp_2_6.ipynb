{
 "cells": [
  {
   "cell_type": "markdown",
   "metadata": {},
   "source": [
    "## ThinkDSP\n",
    "### Exercise 2.6"
   ]
  },
  {
   "cell_type": "markdown",
   "metadata": {},
   "source": [
    "Triangle and square waves have odd harmonics only; the sawtooth\n",
    "wave has both even and odd harmonics. The harmonics of the square\n",
    "and sawtooth waves drop off in proportion to $1/ f$ ; the harmonics of the triangle wave drop off like $1/ f^{2}$. Can you find a waveform that has even and odd harmonics that drop off like $1/ f^{2}$?\n",
    "\n",
    "Hint: There are two ways you could approach this: you could construct the\n",
    "signal you want by adding up sinusoids, or you could start with a signal\n",
    "that is similar to what you want and modify it."
   ]
  },
  {
   "cell_type": "markdown",
   "metadata": {},
   "source": [
    "#### Imports"
   ]
  },
  {
   "cell_type": "code",
   "execution_count": null,
   "metadata": {
    "collapsed": false
   },
   "outputs": [],
   "source": [
    "import numpy as np\n",
    "from matplotlib import pyplot as plt"
   ]
  },
  {
   "cell_type": "markdown",
   "metadata": {},
   "source": [
    "#### Functions to be used"
   ]
  },
  {
   "cell_type": "code",
   "execution_count": null,
   "metadata": {
    "collapsed": true
   },
   "outputs": [],
   "source": [
    "def normalize(values,amplitude):\n",
    "    high = abs(max(values))\n",
    "    low = abs(min(values))\n",
    "    return amplitude*values / max(high,low)"
   ]
  },
  {
   "cell_type": "code",
   "execution_count": null,
   "metadata": {
    "collapsed": true
   },
   "outputs": [],
   "source": [
    "def unbias(values):\n",
    "    return values - values.mean()"
   ]
  },
  {
   "cell_type": "markdown",
   "metadata": {},
   "source": [
    "#### Make a sawtooth wave"
   ]
  },
  {
   "cell_type": "code",
   "execution_count": 7,
   "metadata": {
    "collapsed": true
   },
   "outputs": [],
   "source": [
    "freq = 100\n",
    "duration = 0.5\n",
    "framerate=20000\n",
    "amplitude = 1"
   ]
  },
  {
   "cell_type": "code",
   "execution_count": 8,
   "metadata": {
    "collapsed": true
   },
   "outputs": [],
   "source": [
    "n = round(duration*framerate)\n",
    "timesteps = np.arange(n) / framerate\n",
    "timesteps = np.asarray(timesteps)\n",
    "cycles = freq*timesteps \n",
    "frac,temp = np.modf(cycles)\n",
    "values = normalize(unbias(frac),amplitude)"
   ]
  },
  {
   "cell_type": "code",
   "execution_count": null,
   "metadata": {
    "collapsed": false
   },
   "outputs": [],
   "source": [
    "plt.plot(timesteps,values)\n",
    "plt.show()"
   ]
  },
  {
   "cell_type": "code",
   "execution_count": null,
   "metadata": {
    "collapsed": true
   },
   "outputs": [],
   "source": [
    "# compute the spectrum using FFT\n",
    "n = len(values)\n",
    "d = 1/self.framerate\n",
    "hs = np.fft.ffft(values) # array of amplitudes\n",
    "fs = np.fft.ffftfreq(n,d) # array of frequencies\n",
    "plt.plot(hs,fs)\n",
    "plt.show()"
   ]
  },
  {
   "cell_type": "code",
   "execution_count": null,
   "metadata": {
    "collapsed": true
   },
   "outputs": [],
   "source": []
  }
 ],
 "metadata": {
  "anaconda-cloud": {},
  "kernelspec": {
   "display_name": "Python [Root]",
   "language": "python",
   "name": "Python [Root]"
  },
  "language_info": {
   "codemirror_mode": {
    "name": "ipython",
    "version": 2
   },
   "file_extension": ".py",
   "mimetype": "text/x-python",
   "name": "python",
   "nbconvert_exporter": "python",
   "pygments_lexer": "ipython2",
   "version": "2.7.12"
  }
 },
 "nbformat": 4,
 "nbformat_minor": 0
}
